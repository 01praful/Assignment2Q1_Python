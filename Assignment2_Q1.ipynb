{
  "nbformat": 4,
  "nbformat_minor": 0,
  "metadata": {
    "colab": {
      "provenance": []
    },
    "kernelspec": {
      "name": "python3",
      "display_name": "Python 3"
    },
    "language_info": {
      "name": "python"
    }
  },
  "cells": [
    {
      "cell_type": "markdown",
      "source": [
        "Write a Python program to get a list, sorted in increasing order by the last element in each tuple from a given list of non-empty tuples"
      ],
      "metadata": {
        "id": "xehP1vDBBT-P"
      }
    },
    {
      "cell_type": "code",
      "execution_count": 5,
      "metadata": {
        "colab": {
          "base_uri": "https://localhost:8080/"
        },
        "id": "HZoe65ipBQHu",
        "outputId": "5fa46c6f-c065-4b0e-ab9b-ea6b052f2c7f"
      },
      "outputs": [
        {
          "output_type": "stream",
          "name": "stdout",
          "text": [
            "Original list:  [(5, 8), (6, 2), (7, 6), (1, 3), (4, 7)]\n",
            "Sorted list:  [(6, 2), (1, 3), (7, 6), (4, 7), (5, 8)]\n"
          ]
        }
      ],
      "source": [
        "def sort_list(tuples):\n",
        "  return sorted(tuples, key=lambda x: x[-1])\n",
        "l1 = [(5, 8), (6, 2), (7, 6), (1, 3), (4, 7)]\n",
        "new_sorted_list = sort_list(l1)\n",
        "print(\"Original list: \", l1)\n",
        "print(\"Sorted list: \", new_sorted_list)"
      ]
    },
    {
      "cell_type": "code",
      "source": [],
      "metadata": {
        "id": "V0yJI6b7C5Sz"
      },
      "execution_count": null,
      "outputs": []
    }
  ]
}